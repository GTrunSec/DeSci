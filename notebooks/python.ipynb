{
 "cells": [
  {
   "cell_type": "code",
   "execution_count": 1,
   "id": "a457de5b-1244-46ca-83fe-dcc3f9186ed0",
   "metadata": {},
   "outputs": [
    {
     "data": {
      "text/plain": [
       "['/home/gtrun/ghq/github.com/GTrunSec/data-science-threat-intelligence/notebooks',\n",
       " '/nix/store/9xnq0r2a14s9qc5c27ppzq1p7j8wqx22-python3-3.9.13/lib/python39.zip',\n",
       " '/nix/store/9xnq0r2a14s9qc5c27ppzq1p7j8wqx22-python3-3.9.13/lib/python3.9',\n",
       " '/nix/store/9xnq0r2a14s9qc5c27ppzq1p7j8wqx22-python3-3.9.13/lib/python3.9/lib-dynload',\n",
       " '',\n",
       " '/nix/store/9xnq0r2a14s9qc5c27ppzq1p7j8wqx22-python3-3.9.13/lib/python3.9/site-packages',\n",
       " '/nix/store/6jha2xaq168d03i2i2dzkkapsp9v9gy6-python3-3.9.13-env/lib/python3.9/site-packages']"
      ]
     },
     "execution_count": 1,
     "metadata": {},
     "output_type": "execute_result"
    }
   ],
   "source": [
    "import sys\n",
    "sys.path"
   ]
  },
  {
   "cell_type": "code",
   "execution_count": 2,
   "id": "53a7b762-3aa5-445a-87a2-243dcc3a4992",
   "metadata": {},
   "outputs": [],
   "source": [
    "import numpy"
   ]
  },
  {
   "cell_type": "code",
   "execution_count": 3,
   "id": "c639bbd1-f36d-4099-82ff-81d788a9d1e8",
   "metadata": {},
   "outputs": [],
   "source": [
    "import pandas"
   ]
  },
  {
   "cell_type": "code",
   "execution_count": null,
   "id": "e33e6c3f-31da-4f90-a130-fdab548af696",
   "metadata": {},
   "outputs": [],
   "source": []
  }
 ],
 "metadata": {
  "kernelspec": {
   "display_name": "python with threat intelligence",
   "language": "python",
   "name": "python-with-threat-intelligence"
  },
  "language_info": {
   "codemirror_mode": {
    "name": "ipython",
    "version": 3
   },
   "file_extension": ".py",
   "mimetype": "text/x-python",
   "name": "python",
   "nbconvert_exporter": "python",
   "pygments_lexer": "ipython3",
   "version": "3.9.13"
  }
 },
 "nbformat": 4,
 "nbformat_minor": 5
}
